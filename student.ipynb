{
 "cells": [
  {
   "cell_type": "markdown",
   "id": "df552adb",
   "metadata": {},
   "source": [
    "Microsoft, a technology giant, aims to venture into the world of original video content creation by establishing a new movie studio. However, lacking experience in the movie industry, Microsoft faces the challenge of identifying the most successful film genres in the current market. The objective is to provide actionable insights to guide Microsoft's new movie studio in determining the types of films to produce. \n",
    "objectives:\n",
    "1.Data Import and Understanding all the data provided\n",
    "2.Data Exploration\n",
    "3.Data Integration\n",
    "4.\n",
    "5"
   ]
  },
  {
   "cell_type": "code",
   "execution_count": 4,
   "id": "932340d4",
   "metadata": {},
   "outputs": [],
   "source": [
    "import pandas as pd\n",
    "import sqlite3\n",
    "import zipfile\n",
    "import gzip\n",
    "# Connect to the SQLite database\n",
    "conn = sqlite3.connect('im.db')"
   ]
  },
  {
   "cell_type": "code",
   "execution_count": 14,
   "id": "28077501",
   "metadata": {},
   "outputs": [],
   "source": [
    "file_path = \"rt.movie_info.tsv\"\n",
    "df = pd.read_csv(file_path, delimiter='\\t', encoding='utf-8')"
   ]
  },
  {
   "cell_type": "code",
   "execution_count": 15,
   "id": "0a3bae1f",
   "metadata": {},
   "outputs": [],
   "source": [
    "file_path = \"tmdb.movies.csv\"\n",
    "\n",
    "# Read the CSV file into a DataFrame\n",
    "df1 = pd.read_csv(file_path, encoding='utf-8')"
   ]
  },
  {
   "cell_type": "code",
   "execution_count": 16,
   "id": "19dac0fb",
   "metadata": {},
   "outputs": [],
   "source": [
    "# Load data from the movie_basics table in the SQLite database\n",
    "movie_basics_query = \"SELECT * FROM movie_basics\"\n",
    "movie_basics_df = pd.read_sql_query(movie_basics_query, conn)"
   ]
  },
  {
   "cell_type": "code",
   "execution_count": 17,
   "id": "5491d4eb",
   "metadata": {},
   "outputs": [],
   "source": [
    "#Load data from the movie_ratings table in the SQLite database\n",
    "movie_ratings_query = \"SELECT * FROM movie_ratings\"\n",
    "movie_ratings_df = pd.read_sql_query(movie_ratings_query, conn)"
   ]
  },
  {
   "cell_type": "code",
   "execution_count": 18,
   "id": "1e10142e",
   "metadata": {},
   "outputs": [],
   "source": [
    "#Unzip the SQLite database\n",
    "with zipfile.ZipFile('im.db.zip', 'r') as zip_ref:\n",
    "    zip_ref.extractall()"
   ]
  },
  {
   "cell_type": "code",
   "execution_count": 19,
   "id": "015f82d8",
   "metadata": {},
   "outputs": [],
   "source": [
    "#Load data from the CSV file (box office gross data)\n",
    "with gzip.open('bom.movie_gross.csv.gz', 'rb') as file:\n",
    "    box_office_df = pd.read_csv(file)\n"
   ]
  },
  {
   "cell_type": "markdown",
   "id": "48505e9b",
   "metadata": {},
   "source": [
    " we want to now Explore and understand the loaded dataframes from the data provided by using functions and methods  .head(), .info(), .describe()"
   ]
  },
  {
   "cell_type": "code",
   "execution_count": 11,
   "id": "5a73c3a5",
   "metadata": {},
   "outputs": [
    {
     "name": "stdout",
     "output_type": "stream",
     "text": [
      "Sample records from movie_basics:\n",
      "    movie_id                    primary_title              original_title  \\\n",
      "0  tt0063540                        Sunghursh                   Sunghursh   \n",
      "1  tt0066787  One Day Before the Rainy Season             Ashad Ka Ek Din   \n",
      "2  tt0069049       The Other Side of the Wind  The Other Side of the Wind   \n",
      "3  tt0069204                  Sabse Bada Sukh             Sabse Bada Sukh   \n",
      "4  tt0100275         The Wandering Soap Opera       La Telenovela Errante   \n",
      "\n",
      "   start_year  runtime_minutes                genres  \n",
      "0        2013            175.0    Action,Crime,Drama  \n",
      "1        2019            114.0       Biography,Drama  \n",
      "2        2018            122.0                 Drama  \n",
      "3        2018              NaN          Comedy,Drama  \n",
      "4        2017             80.0  Comedy,Drama,Fantasy  \n"
     ]
    }
   ],
   "source": [
    "print(\"Sample records from movie_basics:\")\n",
    "print(movie_basics_df.head())"
   ]
  },
  {
   "cell_type": "code",
   "execution_count": 12,
   "id": "96a36a53",
   "metadata": {},
   "outputs": [
    {
     "name": "stdout",
     "output_type": "stream",
     "text": [
      "Sample records from movie_basics:\n",
      "<class 'pandas.core.frame.DataFrame'>\n",
      "RangeIndex: 146144 entries, 0 to 146143\n",
      "Data columns (total 6 columns):\n",
      " #   Column           Non-Null Count   Dtype  \n",
      "---  ------           --------------   -----  \n",
      " 0   movie_id         146144 non-null  object \n",
      " 1   primary_title    146144 non-null  object \n",
      " 2   original_title   146123 non-null  object \n",
      " 3   start_year       146144 non-null  int64  \n",
      " 4   runtime_minutes  114405 non-null  float64\n",
      " 5   genres           140736 non-null  object \n",
      "dtypes: float64(1), int64(1), object(4)\n",
      "memory usage: 6.7+ MB\n",
      "None\n"
     ]
    }
   ],
   "source": [
    "print(\"Sample records from movie_basics:\")\n",
    "print(movie_basics_df.info())"
   ]
  },
  {
   "cell_type": "code",
   "execution_count": 13,
   "id": "0c10caef",
   "metadata": {},
   "outputs": [
    {
     "name": "stdout",
     "output_type": "stream",
     "text": [
      "Sample records from movie_basics:\n",
      "          start_year  runtime_minutes\n",
      "count  146144.000000    114405.000000\n",
      "mean     2014.621798        86.187247\n",
      "std         2.733583       166.360590\n",
      "min      2010.000000         1.000000\n",
      "25%      2012.000000        70.000000\n",
      "50%      2015.000000        87.000000\n",
      "75%      2017.000000        99.000000\n",
      "max      2115.000000     51420.000000\n"
     ]
    }
   ],
   "source": [
    "print(\"Sample records from movie_basics:\")\n",
    "print(movie_basics_df.describe())"
   ]
  },
  {
   "cell_type": "markdown",
   "id": "6822b956",
   "metadata": {},
   "source": [
    "we want to now Explore and understand the loaded dataframes from movie_ratings provided by using functions and methods .head(), .info(), .describe()"
   ]
  },
  {
   "cell_type": "code",
   "execution_count": 21,
   "id": "2bd6061c",
   "metadata": {},
   "outputs": [
    {
     "name": "stdout",
     "output_type": "stream",
     "text": [
      "     movie_id  averagerating  numvotes\n",
      "0  tt10356526            8.3        31\n",
      "1  tt10384606            8.9       559\n",
      "2   tt1042974            6.4        20\n",
      "3   tt1043726            4.2     50352\n",
      "4   tt1060240            6.5        21\n"
     ]
    }
   ],
   "source": [
    "print(movie_ratings_df.head())"
   ]
  },
  {
   "cell_type": "code",
   "execution_count": 23,
   "id": "5d7839a2",
   "metadata": {},
   "outputs": [
    {
     "name": "stdout",
     "output_type": "stream",
     "text": [
      "<class 'pandas.core.frame.DataFrame'>\n",
      "RangeIndex: 73856 entries, 0 to 73855\n",
      "Data columns (total 3 columns):\n",
      " #   Column         Non-Null Count  Dtype  \n",
      "---  ------         --------------  -----  \n",
      " 0   movie_id       73856 non-null  object \n",
      " 1   averagerating  73856 non-null  float64\n",
      " 2   numvotes       73856 non-null  int64  \n",
      "dtypes: float64(1), int64(1), object(1)\n",
      "memory usage: 1.7+ MB\n",
      "None\n"
     ]
    }
   ],
   "source": [
    "print(movie_ratings_df.info())"
   ]
  },
  {
   "cell_type": "code",
   "execution_count": 24,
   "id": "cdb9bcbe",
   "metadata": {},
   "outputs": [
    {
     "name": "stdout",
     "output_type": "stream",
     "text": [
      "       averagerating      numvotes\n",
      "count   73856.000000  7.385600e+04\n",
      "mean        6.332729  3.523662e+03\n",
      "std         1.474978  3.029402e+04\n",
      "min         1.000000  5.000000e+00\n",
      "25%         5.500000  1.400000e+01\n",
      "50%         6.500000  4.900000e+01\n",
      "75%         7.400000  2.820000e+02\n",
      "max        10.000000  1.841066e+06\n"
     ]
    }
   ],
   "source": [
    "print(movie_ratings_df.describe())"
   ]
  },
  {
   "cell_type": "markdown",
   "id": "167c3a44",
   "metadata": {},
   "source": [
    "we want to now Explore and understand the loaded dataframes from box_office provided by using functions and methods .head(), .info(), .describe()"
   ]
  },
  {
   "cell_type": "code",
   "execution_count": 25,
   "id": "cc0a4201",
   "metadata": {},
   "outputs": [
    {
     "name": "stdout",
     "output_type": "stream",
     "text": [
      "\n",
      "Sample records from box_office_df:\n",
      "                                         title studio  domestic_gross  \\\n",
      "0                                  Toy Story 3     BV     415000000.0   \n",
      "1                   Alice in Wonderland (2010)     BV     334200000.0   \n",
      "2  Harry Potter and the Deathly Hallows Part 1     WB     296000000.0   \n",
      "3                                    Inception     WB     292600000.0   \n",
      "4                          Shrek Forever After   P/DW     238700000.0   \n",
      "\n",
      "  foreign_gross  year  \n",
      "0     652000000  2010  \n",
      "1     691300000  2010  \n",
      "2     664300000  2010  \n",
      "3     535700000  2010  \n",
      "4     513900000  2010  \n"
     ]
    }
   ],
   "source": [
    "print(\"\\nSample records from box_office_df:\")\n",
    "print(box_office_df.head())"
   ]
  },
  {
   "cell_type": "code",
   "execution_count": 26,
   "id": "22228141",
   "metadata": {},
   "outputs": [
    {
     "name": "stdout",
     "output_type": "stream",
     "text": [
      "<class 'pandas.core.frame.DataFrame'>\n",
      "RangeIndex: 3387 entries, 0 to 3386\n",
      "Data columns (total 5 columns):\n",
      " #   Column          Non-Null Count  Dtype  \n",
      "---  ------          --------------  -----  \n",
      " 0   title           3387 non-null   object \n",
      " 1   studio          3382 non-null   object \n",
      " 2   domestic_gross  3359 non-null   float64\n",
      " 3   foreign_gross   2037 non-null   object \n",
      " 4   year            3387 non-null   int64  \n",
      "dtypes: float64(1), int64(1), object(3)\n",
      "memory usage: 132.4+ KB\n",
      "None\n"
     ]
    }
   ],
   "source": [
    "print(box_office_df.info())"
   ]
  },
  {
   "cell_type": "code",
   "execution_count": 27,
   "id": "8d0541da",
   "metadata": {},
   "outputs": [
    {
     "name": "stdout",
     "output_type": "stream",
     "text": [
      "       domestic_gross         year\n",
      "count    3.359000e+03  3387.000000\n",
      "mean     2.874585e+07  2013.958075\n",
      "std      6.698250e+07     2.478141\n",
      "min      1.000000e+02  2010.000000\n",
      "25%      1.200000e+05  2012.000000\n",
      "50%      1.400000e+06  2014.000000\n",
      "75%      2.790000e+07  2016.000000\n",
      "max      9.367000e+08  2018.000000\n"
     ]
    }
   ],
   "source": [
    "print(box_office_df.describe())"
   ]
  },
  {
   "cell_type": "code",
   "execution_count": 29,
   "id": "244bc026",
   "metadata": {},
   "outputs": [],
   "source": [
    "box_office_df['year'] = box_office_df['year'].astype(int)"
   ]
  },
  {
   "cell_type": "code",
   "execution_count": 32,
   "id": "e67dbae9",
   "metadata": {},
   "outputs": [
    {
     "name": "stdout",
     "output_type": "stream",
     "text": [
      "       domestic_gross         year\n",
      "count    3.359000e+03  3387.000000\n",
      "mean     2.874585e+07  2013.958075\n",
      "std      6.698250e+07     2.478141\n",
      "min      1.000000e+02  2010.000000\n",
      "25%      1.200000e+05  2012.000000\n",
      "50%      1.400000e+06  2014.000000\n",
      "75%      2.790000e+07  2016.000000\n",
      "max      9.367000e+08  2018.000000\n"
     ]
    }
   ],
   "source": [
    "print(box_office_df.describe())"
   ]
  },
  {
   "cell_type": "code",
   "execution_count": null,
   "id": "b380c473",
   "metadata": {},
   "outputs": [],
   "source": []
  }
 ],
 "metadata": {
  "kernelspec": {
   "display_name": "Python (learn-env)",
   "language": "python",
   "name": "learn-env"
  },
  "language_info": {
   "codemirror_mode": {
    "name": "ipython",
    "version": 3
   },
   "file_extension": ".py",
   "mimetype": "text/x-python",
   "name": "python",
   "nbconvert_exporter": "python",
   "pygments_lexer": "ipython3",
   "version": "3.11.3"
  }
 },
 "nbformat": 4,
 "nbformat_minor": 5
}
